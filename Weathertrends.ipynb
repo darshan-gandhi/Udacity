{
 "cells": [
  {
   "cell_type": "markdown",
   "metadata": {},
   "source": [
    "Comparision between the local data and the global data using the law of moving avergages"
   ]
  },
  {
   "cell_type": "markdown",
   "metadata": {},
   "source": [
    "\n",
    "**What tools did you use for each step? (Python, SQL, Excel, etc)**\n",
    "\n",
    "Here the approach taken by me was the first collect the data with the help of sql queries and once that was done I have used python to carry out the exploratory analysis and try to understand the difference between the global and local temp with the help of line chart\n",
    "\n",
    "**How did you calculate the moving average?**\n",
    "\n",
    "So, pandas DataFrame has a direct support for finding out the rolling mean over a brief period, here I have made use of 12. This indicates that the data of previous 12 years was taken and the net avg of those 12 years was taken to be the value of 13th year, the 14th year was the value of years from 2-13, and so on.\n",
    "\n",
    "**What were your key considerations when deciding how to visualize the trends?**\n",
    "\n",
    "The main consideration was to have 2 lines showing significant variance from other and this was done with the help of line charts, where 2 different lines were drawn to show the difference in the values over the years."
   ]
  },
  {
   "cell_type": "markdown",
   "metadata": {},
   "source": [
    "Importing the libraries"
   ]
  },
  {
   "cell_type": "code",
   "execution_count": 2,
   "metadata": {},
   "outputs": [],
   "source": [
    "import pandas as pd \n",
    "import matplotlib.pyplot as plt \n",
    "import numpy as np"
   ]
  },
  {
   "cell_type": "markdown",
   "metadata": {},
   "source": [
    "Reading the data"
   ]
  },
  {
   "cell_type": "code",
   "execution_count": 3,
   "metadata": {},
   "outputs": [],
   "source": [
    "globaltemp = pd.read_csv('global_data.csv') \n",
    "citytemp = pd.read_csv('local.csv')"
   ]
  },
  {
   "cell_type": "code",
   "execution_count": 4,
   "metadata": {},
   "outputs": [
    {
     "data": {
      "text/html": [
       "<div>\n",
       "<style scoped>\n",
       "    .dataframe tbody tr th:only-of-type {\n",
       "        vertical-align: middle;\n",
       "    }\n",
       "\n",
       "    .dataframe tbody tr th {\n",
       "        vertical-align: top;\n",
       "    }\n",
       "\n",
       "    .dataframe thead th {\n",
       "        text-align: right;\n",
       "    }\n",
       "</style>\n",
       "<table border=\"1\" class=\"dataframe\">\n",
       "  <thead>\n",
       "    <tr style=\"text-align: right;\">\n",
       "      <th></th>\n",
       "      <th>year</th>\n",
       "      <th>avg_temp</th>\n",
       "    </tr>\n",
       "  </thead>\n",
       "  <tbody>\n",
       "    <tr>\n",
       "      <td>0</td>\n",
       "      <td>1750</td>\n",
       "      <td>8.72</td>\n",
       "    </tr>\n",
       "    <tr>\n",
       "      <td>1</td>\n",
       "      <td>1751</td>\n",
       "      <td>7.98</td>\n",
       "    </tr>\n",
       "    <tr>\n",
       "      <td>2</td>\n",
       "      <td>1752</td>\n",
       "      <td>5.78</td>\n",
       "    </tr>\n",
       "    <tr>\n",
       "      <td>3</td>\n",
       "      <td>1753</td>\n",
       "      <td>8.39</td>\n",
       "    </tr>\n",
       "    <tr>\n",
       "      <td>4</td>\n",
       "      <td>1754</td>\n",
       "      <td>8.47</td>\n",
       "    </tr>\n",
       "  </tbody>\n",
       "</table>\n",
       "</div>"
      ],
      "text/plain": [
       "   year  avg_temp\n",
       "0  1750      8.72\n",
       "1  1751      7.98\n",
       "2  1752      5.78\n",
       "3  1753      8.39\n",
       "4  1754      8.47"
      ]
     },
     "execution_count": 4,
     "metadata": {},
     "output_type": "execute_result"
    }
   ],
   "source": [
    "globaltemp.head()"
   ]
  },
  {
   "cell_type": "code",
   "execution_count": 5,
   "metadata": {},
   "outputs": [
    {
     "data": {
      "text/html": [
       "<div>\n",
       "<style scoped>\n",
       "    .dataframe tbody tr th:only-of-type {\n",
       "        vertical-align: middle;\n",
       "    }\n",
       "\n",
       "    .dataframe tbody tr th {\n",
       "        vertical-align: top;\n",
       "    }\n",
       "\n",
       "    .dataframe thead th {\n",
       "        text-align: right;\n",
       "    }\n",
       "</style>\n",
       "<table border=\"1\" class=\"dataframe\">\n",
       "  <thead>\n",
       "    <tr style=\"text-align: right;\">\n",
       "      <th></th>\n",
       "      <th>year</th>\n",
       "      <th>city</th>\n",
       "      <th>country</th>\n",
       "      <th>avg_temp</th>\n",
       "    </tr>\n",
       "  </thead>\n",
       "  <tbody>\n",
       "    <tr>\n",
       "      <td>0</td>\n",
       "      <td>1743</td>\n",
       "      <td>Washington</td>\n",
       "      <td>United States</td>\n",
       "      <td>5.34</td>\n",
       "    </tr>\n",
       "    <tr>\n",
       "      <td>1</td>\n",
       "      <td>1744</td>\n",
       "      <td>Washington</td>\n",
       "      <td>United States</td>\n",
       "      <td>13.88</td>\n",
       "    </tr>\n",
       "    <tr>\n",
       "      <td>2</td>\n",
       "      <td>1745</td>\n",
       "      <td>Washington</td>\n",
       "      <td>United States</td>\n",
       "      <td>4.00</td>\n",
       "    </tr>\n",
       "    <tr>\n",
       "      <td>3</td>\n",
       "      <td>1746</td>\n",
       "      <td>Washington</td>\n",
       "      <td>United States</td>\n",
       "      <td>NaN</td>\n",
       "    </tr>\n",
       "    <tr>\n",
       "      <td>4</td>\n",
       "      <td>1747</td>\n",
       "      <td>Washington</td>\n",
       "      <td>United States</td>\n",
       "      <td>NaN</td>\n",
       "    </tr>\n",
       "  </tbody>\n",
       "</table>\n",
       "</div>"
      ],
      "text/plain": [
       "   year        city        country  avg_temp\n",
       "0  1743  Washington  United States      5.34\n",
       "1  1744  Washington  United States     13.88\n",
       "2  1745  Washington  United States      4.00\n",
       "3  1746  Washington  United States       NaN\n",
       "4  1747  Washington  United States       NaN"
      ]
     },
     "execution_count": 5,
     "metadata": {},
     "output_type": "execute_result"
    }
   ],
   "source": [
    "citytemp.head()"
   ]
  },
  {
   "cell_type": "markdown",
   "metadata": {},
   "source": [
    "Finding out the moving averages for Global Data and Local Data"
   ]
  },
  {
   "cell_type": "code",
   "execution_count": 8,
   "metadata": {},
   "outputs": [],
   "source": [
    "glb_mv_avg = globaltemp['avg_temp'].rolling(12).mean()\n",
    "local_mv_avg = citytemp['avg_temp'].rolling(12).mean()"
   ]
  },
  {
   "cell_type": "markdown",
   "metadata": {},
   "source": [
    "Plotting the graph for better understanding "
   ]
  },
  {
   "cell_type": "code",
   "execution_count": 9,
   "metadata": {
    "scrolled": false
   },
   "outputs": [
    {
     "data": {
      "image/png": "[encoded data removed]",
      "text/plain": [
       "<Figure size 432x288 with 1 Axes>"
      ]
     },
     "metadata": {
      "needs_background": "light"
     },
     "output_type": "display_data"
    }
   ],
   "source": [
    "#Local Data is as same as Cairo\n",
    "plt.plot(globaltemp['year'],glb_mv_avg,label='Global')\n",
    "plt.plot(citytemp['year'],local_mv_avg,label='Local')\n",
    "plt.legend()\n",
    "plt.xlabel(\"Over the years\")\n",
    "plt.ylabel(\"Temperature Range\") \n",
    "plt.title(\"Citys Average Temperature\")\n",
    "plt.show()"
   ]
  },
  {
   "cell_type": "markdown",
   "metadata": {},
   "source": [
    "Conclusion: \n",
    "\n",
    "Hence over here we have plotted the graph of moving average and tried to draw a comparision between the global and local data values and tried to understand what the difference is.\n",
    "Here, we can understand the local temperatures are really high as compared to the global ones.\n",
    "\n",
    "**Four observations about the similarities and/or differences in the trends are as follows :**\n",
    "\n",
    "1) the data for the the global temperature is less varying in nature as compared to the local one\n",
    "\n",
    "2) If compared with the starting year, the local data value of temperature has changed more as compared to the global ones\n",
    "\n",
    "3) Between the year range of 1820-1830 there was a huge reduction in the temperature values in both, the global as well as the local data\n",
    "\n",
    "4) Local temperature is very high as compared to the global temperature, hence we can say it is above average\n",
    "\n",
    "5) In the last century, i.e from 1900 onwards one can observe a continous surge in the temperature values of the temp at a global level, but when taken in account for the values of local the temperature used to increaase and decrease simulatenously."
   ]
  },
  {
   "cell_type": "code",
   "execution_count": null,
   "metadata": {},
   "outputs": [],
   "source": []
  }
 ],
 "metadata": {
  "kernelspec": {
   "display_name": "Python 3",
   "language": "python",
   "name": "python3"
  },
  "language_info": {
   "codemirror_mode": {
    "name": "ipython",
    "version": 3
   },
   "file_extension": ".py",
   "mimetype": "text/x-python",
   "name": "python",
   "nbconvert_exporter": "python",
   "pygments_lexer": "ipython3",
   "version": "3.7.4"
  }
 },
 "nbformat": 4,
 "nbformat_minor": 2
}
